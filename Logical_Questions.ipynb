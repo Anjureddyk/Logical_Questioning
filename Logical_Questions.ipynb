{
 "cells": [
  {
   "cell_type": "code",
   "execution_count": 35,
   "id": "da9529fe",
   "metadata": {},
   "outputs": [
    {
     "name": "stdout",
     "output_type": "stream",
     "text": [
      "Sample Input: 37\n",
      "Sample Output: B17\n"
     ]
    }
   ],
   "source": [
    "#1\n",
    "\n",
    "def find_seat_location(seat_number):\n",
    "    if seat_number < 1 or seat_number > 520:\n",
    "        return \"Invalid input. Seat number must be between 1 and 520.\"\n",
    "\n",
    "    row = chr(ord('A') + (seat_number - 1) // 20)\n",
    "    seat = seat_number % 20\n",
    "    if seat == 0:\n",
    "        seat = 20\n",
    "\n",
    "    return f\"{row}{seat:02d}\"\n",
    "\n",
    "input_number = 37\n",
    "result = find_seat_location(input_number)\n",
    "print(\"Sample Input:\", input_number)\n",
    "print(\"Sample Output:\", result)"
   ]
  },
  {
   "cell_type": "code",
   "execution_count": 36,
   "id": "a0b90ec7",
   "metadata": {},
   "outputs": [
    {
     "name": "stdout",
     "output_type": "stream",
     "text": [
      "Sample Input: X = 2 , Y = 2\n",
      "Sample Output: YES\n"
     ]
    }
   ],
   "source": [
    "#2\n",
    "\n",
    "def can_distribute_coins_equally(X, Y):\n",
    "    total_value_x = X * 1\n",
    "    total_value_y = Y * 2\n",
    "\n",
    "    if total_value_x % 2 == 0 and total_value_y % 2 == 0:\n",
    "        return \"YES\"\n",
    "    else:\n",
    "        return \"NO\"\n",
    "\n",
    "# Sample input\n",
    "X = 2\n",
    "Y = 2\n",
    "result = can_distribute_coins_equally(X, Y)\n",
    "print(\"Sample Input: X =\", X, \", Y =\", Y)\n",
    "print(\"Sample Output:\", result)"
   ]
  },
  {
   "cell_type": "code",
   "execution_count": 16,
   "id": "8e3b74f7",
   "metadata": {},
   "outputs": [
    {
     "name": "stdout",
     "output_type": "stream",
     "text": [
      "Sample Input: 83557\n",
      "Sample Output: YES\n"
     ]
    }
   ],
   "source": [
    "#3\n",
    "\n",
    "def is_magic_number(number):\n",
    "    while number >= 10:\n",
    "        \n",
    "        num_str = str(number)\n",
    "        digit_sum = 0\n",
    "\n",
    "        for digit in num_str:\n",
    "            digit_sum += int(digit)\n",
    "\n",
    "        number = digit_sum\n",
    "\n",
    "    if number == 1:\n",
    "        return \"YES\"\n",
    "    else:\n",
    "        return \"NO\"\n",
    "\n",
    "number = 83557\n",
    "result = is_magic_number(number)\n",
    "print(\"Sample Input:\", number)\n",
    "print(\"Sample Output:\", result)"
   ]
  },
  {
   "cell_type": "code",
   "execution_count": 28,
   "id": "0d39815a",
   "metadata": {},
   "outputs": [
    {
     "name": "stdout",
     "output_type": "stream",
     "text": [
      "Sample Input: ['eat', 'tea', 'tan', 'ate', 'nat', 'bat']\n",
      "Sample Output: [['eat', 'tea', 'ate'], ['tan', 'nat'], ['bat']]\n"
     ]
    }
   ],
   "source": [
    "#4\n",
    "\n",
    "def group_anagrams(strs):\n",
    "    anagram_dict = {}  \n",
    "\n",
    "    for word in strs:\n",
    "        sorted_word = ''.join(sorted(word))\n",
    "        \n",
    "        if sorted_word not in anagram_dict:\n",
    "            anagram_dict[sorted_word] = []\n",
    "\n",
    "        anagram_dict[sorted_word].append(word)\n",
    "\n",
    "    return list(anagram_dict.values())\n",
    "\n",
    "strs = [\"eat\", \"tea\", \"tan\", \"ate\", \"nat\", \"bat\"]\n",
    "result = group_anagrams(strs)\n",
    "print(\"Sample Input:\", strs)\n",
    "print(\"Sample Output:\", result)"
   ]
  },
  {
   "cell_type": "code",
   "execution_count": 34,
   "id": "11e379b8",
   "metadata": {},
   "outputs": [
    {
     "name": "stdout",
     "output_type": "stream",
     "text": [
      "Sample Input: [1, 2, 3, 4, 5]\n",
      "Sample Output: 4\n"
     ]
    }
   ],
   "source": [
    "#5\n",
    "\n",
    "def max_profit(prices):\n",
    "    max_profit = 0\n",
    "\n",
    "    for i in range(1, len(prices)):\n",
    "        if prices[i] > prices[i - 1]:\n",
    "            max_profit += prices[i] - prices[i - 1]\n",
    "\n",
    "    return max_profit\n",
    "\n",
    "prices = [1, 2, 3, 4, 5]\n",
    "result = max_profit(prices)\n",
    "print(\"Sample Input:\", prices)\n",
    "print(\"Sample Output:\", result)"
   ]
  },
  {
   "cell_type": "code",
   "execution_count": null,
   "id": "c9e0725d",
   "metadata": {},
   "outputs": [],
   "source": []
  }
 ],
 "metadata": {
  "kernelspec": {
   "display_name": "Python 3 (ipykernel)",
   "language": "python",
   "name": "python3"
  },
  "language_info": {
   "codemirror_mode": {
    "name": "ipython",
    "version": 3
   },
   "file_extension": ".py",
   "mimetype": "text/x-python",
   "name": "python",
   "nbconvert_exporter": "python",
   "pygments_lexer": "ipython3",
   "version": "3.10.9"
  }
 },
 "nbformat": 4,
 "nbformat_minor": 5
}
